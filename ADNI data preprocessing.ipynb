{
 "cells": [
  {
   "cell_type": "code",
   "execution_count": null,
   "id": "cd4aade0",
   "metadata": {},
   "outputs": [],
   "source": [
    "'''Statistical tests'''\n",
    "# when downloading a batch of data, a csv that has been automatically created by the database is also downloaded, containing information about the subjects"
   ]
  },
  {
   "cell_type": "code",
   "execution_count": null,
   "id": "097f475b",
   "metadata": {},
   "outputs": [],
   "source": [
    "import pandas as pd\n",
    "import numpy as np"
   ]
  },
  {
   "cell_type": "code",
   "execution_count": null,
   "id": "2ede27cb",
   "metadata": {},
   "outputs": [],
   "source": [
    "ad_df=pd.read_csv(r'~\\AD_data.csv')\n",
    "cn_df=pd.read_csv(r'~\\CN_data.csv');print(ad_df.head,cn_df.head)"
   ]
  },
  {
   "cell_type": "code",
   "execution_count": null,
   "id": "97f903d1",
   "metadata": {},
   "outputs": [],
   "source": [
    "# Drop all rows with only NaN values\n",
    "ad_df.dropna(how='all', inplace=True)\n",
    "cn_df.dropna(how='all', inplace=True)"
   ]
  },
  {
   "cell_type": "code",
   "execution_count": null,
   "id": "2a9775e1",
   "metadata": {},
   "outputs": [],
   "source": [
    "# Create a dataframe with Subject, Group (AD or CN), Sex and Age\n",
    "ad_df = ad_df.loc[:, ['Subject', 'Group', 'Sex', 'Age']]\n",
    "cn_df = cn_df.loc[:, ['Subject', 'Group', 'Sex', 'Age']]"
   ]
  },
  {
   "cell_type": "code",
   "execution_count": null,
   "id": "0df4326c",
   "metadata": {},
   "outputs": [],
   "source": [
    "from scipy.stats import ttest_ind\n",
    "\n",
    "# Select the 'Age' column from each dataframe\n",
    "ad_age = ad_df['Age']\n",
    "cn_age = cn_df['Age']\n",
    "\n",
    "# Perform the t-test\n",
    "t, p = ttest_ind(ad_age, cn_age)\n",
    "\n",
    "# Print the results\n",
    "print('t-statistic: ', t)\n",
    "print('p-value: ', p)"
   ]
  },
  {
   "cell_type": "code",
   "execution_count": null,
   "id": "f1f44c28",
   "metadata": {},
   "outputs": [],
   "source": [
    "from scipy.stats import chi2_contingency\n",
    "\n",
    "# Create a contingency table of the Sex variable\n",
    "contingency_table = pd.crosstab(index=[ad_df['Sex']], columns=[cn_df['Sex']])\n",
    "\n",
    "# Perform the chi-square test\n",
    "chi2, p, dof, expected = chi2_contingency(contingency_table)\n",
    "\n",
    "# Print the results\n",
    "print('Chi-square statistic: ', chi2)\n",
    "print('p-value: ', p)\n",
    "print('Degrees of freedom: ', dof)\n",
    "print('Expected values: ')\n",
    "print(expected)"
   ]
  },
  {
   "cell_type": "code",
   "execution_count": null,
   "id": "31a66811",
   "metadata": {},
   "outputs": [],
   "source": [
    "print(np.mean(ad_age),np.std(ad_age),sum(ad_df['Sex']=='F'))\n",
    "print(np.mean(cn_age),np.std(cn_age),sum(cn_df['Sex']=='F'))"
   ]
  },
  {
   "cell_type": "code",
   "execution_count": null,
   "id": "1a6e10ad",
   "metadata": {},
   "outputs": [],
   "source": [
    "'''Randomization for creating training, validation & test set'''"
   ]
  },
  {
   "cell_type": "code",
   "execution_count": null,
   "id": "8a5867b9",
   "metadata": {},
   "outputs": [],
   "source": [
    "import random\n",
    "l=[\"sub-\"+str(f\"{i+1:02}\") for i in range(46)] # creating a list with elements of the form sub-01, sub-02,...,sub-46\n",
    "random.shuffle(l) # shuffling the list\n",
    "train=l[:37] # number for slicing is just an example here\n",
    "val=l[37:41]\n",
    "test=l[41:]\n",
    "print(\"training set: \",train,\"\\n\\nvalidation set: \", val,\"\\n\\ntest set: \", test)"
   ]
  },
  {
   "cell_type": "code",
   "execution_count": null,
   "id": "94751edc",
   "metadata": {},
   "outputs": [],
   "source": [
    "'''NIFTI FILE HEADER HANDLING'''\n",
    "# Some Nifti files have wrong TRs\n",
    "# change header information (specifically pixdim4 which corresponds to TR, can check in linux:  fslhd -x pixdim4 filename.nii.gz)"
   ]
  },
  {
   "cell_type": "code",
   "execution_count": null,
   "id": "98412f08",
   "metadata": {},
   "outputs": [],
   "source": [
    "import nibabel as nib\n",
    "import os\n",
    "path=r'~\\data'\n",
    "for i in ['AD','CN']:\n",
    "    for j in os.listdir(path+'\\\\'+i):\n",
    "        p=path+'\\\\'+i+'\\\\'+j\n",
    "        img = nib.load(p)\n",
    "        header = img.header\n",
    "        header['pixdim']=[1., 1., 1., 1., 3., 1., 1., 1.] # changing pixdim4\n",
    "        #print(header)\n",
    "        nib.save(img, p) # saving the new nifti file, overwriting the old one"
   ]
  },
  {
   "cell_type": "code",
   "execution_count": null,
   "id": "efb6d5f9",
   "metadata": {},
   "outputs": [],
   "source": [
    "'''CONVERSION OF 4D TO 2D IMAGES'''"
   ]
  },
  {
   "cell_type": "code",
   "execution_count": null,
   "id": "7ee3e508",
   "metadata": {},
   "outputs": [],
   "source": [
    "import numpy as np\n",
    "import nibabel as nib\n",
    "import glob\n",
    "import os \n",
    "import cv2\n",
    "import time\n",
    "import argparse"
   ]
  },
  {
   "cell_type": "code",
   "execution_count": null,
   "id": "3723f549",
   "metadata": {},
   "outputs": [],
   "source": [
    "# zt-plane\n",
    "def imgconverting_z(foldername , targetfolder, prefix, pattern, slicedrop = 10, printfilename=True):\n",
    "    start = time.time()\n",
    "    folder = foldername\n",
    "    os.chdir(folder)\n",
    "    listfiles = glob.glob('*filtered_func_data.nii.gz') # modification\n",
    "    listshort = listfiles \n",
    "    pref = prefix\n",
    "    if not os.path.isdir(targetfolder):\n",
    "        os.mkdir(targetfolder)\n",
    "    if not os.path.isdir(targetfolder):\n",
    "        os.mkdir(targetfolder)\n",
    "    for hh in range(len(listshort)):\n",
    "        img_test = nib.load(listshort[hh]).get_data()\n",
    "        print(np.shape(img_test))\n",
    "        slice3 = np.shape(img_test)[2]\n",
    "        slice4 = np.shape(img_test)[3]\n",
    "        if img_test.sum() != 0:\n",
    "            img_test = (img_test/np.amax(img_test))*255\n",
    "        for ii in range(slice3-slicedrop):\n",
    "            for jj in range(slice4):\n",
    "                img_png = img_test[:,:,ii,jj]\n",
    "                img_png = np.float64(img_png)\n",
    "                img_png = img_png.astype(np.uint8)\n",
    "                if not pattern:\n",
    "                    helper = ('%s_%s_%03d_%03d_%03d.png' % (\n",
    "                    pref, listshort[hh].replace('.nii.gz', ''), hh + 1, ii + 1, jj + 1))\n",
    "                    filename = os.path.join(targetfolder, helper)\n",
    "                else:\n",
    "                    helper = ('%s_%s_%03d_%03d_%03d.png' % (pref, pattern, hh + 1, ii + 1, jj + 1))\n",
    "                    filename = os.path.join(targetfolder, helper)\n",
    "                img_png = img_png.transpose()\n",
    "                img = cv2.flip(img_png,0)\n",
    "                if img.sum() != 0:\n",
    "                    cv2.imwrite(filename,img_png)\n",
    "                    if printfilename:\n",
    "                        print(filename)\n",
    "                else:\n",
    "                    if printfilename:\n",
    "                        print(\"Empty Slice Skipped => \\t\", filename)\n",
    "    end = time.time()\n",
    "    print(\"Time :\", end-start)\n",
    "\n",
    "def main(parserargs):\n",
    "    ff = r'{}'.format(parserargs.inputfolder)\n",
    "    pref = parserargs.prefix\n",
    "    pt = parserargs.pattern\n",
    "    targetfolder = r'{}'.format(parserargs.targetfolder)\n",
    "    imgconverting(ff, targetfolder, pref, pt, slicedrop=parserargs.drop, printfilename=parserargs.verbose)\n",
    "\n",
    "if __name__ == \"__main__\":\n",
    "    parser = argparse.ArgumentParser()\n",
    "    parser.add_argument(\"-i\", \"--inputfolder\", required=True, help=\"Input folder containing nii.gz files\")\n",
    "    parser.add_argument(\"-o\", \"--targetfolder\", required=True, help=\"Target folder to store PNG slices\")\n",
    "    parser.add_argument(\"-p\", \"--prefix\", required=True, help=\"Prefix for PNG slices\")\n",
    "    parser.add_argument(\"-t\", \"--pattern\", default=False, help=\"String pattern as suffix for PNG slices. Default is False : original file name is kept\")\n",
    "    parser.add_argument(\"-d\", \"--drop\", type=int, default=10, help=\"Number of slices to drop from the beginning of Nifti. Default is 10 slices\")\n",
    "    parser.add_argument(\"-v\",\"--verbose\",type=bool, default=True, help=\"Print file names. Default is True\")\n",
    "    args = parser.parse_args()\n",
    "    main(args)"
   ]
  },
  {
   "cell_type": "code",
   "execution_count": null,
   "id": "759a2d18",
   "metadata": {},
   "outputs": [],
   "source": []
  },
  {
   "cell_type": "code",
   "execution_count": null,
   "id": "fdec277f",
   "metadata": {},
   "outputs": [],
   "source": []
  }
 ],
 "metadata": {
  "kernelspec": {
   "display_name": "Python 3 (ipykernel)",
   "language": "python",
   "name": "python3"
  },
  "language_info": {
   "codemirror_mode": {
    "name": "ipython",
    "version": 3
   },
   "file_extension": ".py",
   "mimetype": "text/x-python",
   "name": "python",
   "nbconvert_exporter": "python",
   "pygments_lexer": "ipython3",
   "version": "3.10.0"
  }
 },
 "nbformat": 4,
 "nbformat_minor": 5
}
